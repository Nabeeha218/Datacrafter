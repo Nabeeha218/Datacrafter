{
 "cells": [
  {
   "cell_type": "code",
   "execution_count": 205,
   "id": "3df87d52-d262-4036-a83b-b1f9cbec1f45",
   "metadata": {},
   "outputs": [
    {
     "name": "stdout",
     "output_type": "stream",
     "text": [
      "    transaction_id customer_id  quantity                  date region  \\\n",
      "0             T001        C001         2  2023-01-15T10:30:00Z  North   \n",
      "1             T002        C002         5  2023-02-10T14:15:00Z  South   \n",
      "2             T003        None        -1            2023-03-05   East   \n",
      "3             T004        C003         3  2023-04-20T09:00:00Z   West   \n",
      "4             T005        C001        10            2023-05-12  North   \n",
      "..             ...         ...       ...                   ...    ...   \n",
      "97            T031        C004         3  2023-07-30T12:00:00Z   East   \n",
      "98            T032        C002         2  2023-08-10T09:00:00Z  North   \n",
      "99            T033        C001         5  2023-09-05T10:00:00Z  South   \n",
      "100           T034        C004         1  2023-10-08T15:00:00Z   West   \n",
      "101           T035        C005         6  2023-11-11T12:00:00Z  North   \n",
      "\n",
      "    product.id product.name product.category  product.price  \n",
      "0          P01       Laptop      Electronics         999.99  \n",
      "1          P02        Mouse      Accessories          19.99  \n",
      "2          P01       Laptop      Electronics         999.99  \n",
      "3          P03      Monitor      Electronics         299.50  \n",
      "4          P02        Mouse      Accessories          19.99  \n",
      "..         ...          ...              ...            ...  \n",
      "97         P01       Laptop      Electronics         999.99  \n",
      "98         P03      Monitor      Electronics         299.50  \n",
      "99         P02        Mouse      Accessories          19.99  \n",
      "100        P01       Laptop      Electronics         999.99  \n",
      "101        P03      Monitor      Electronics         299.50  \n",
      "\n",
      "[102 rows x 9 columns]\n"
     ]
    }
   ],
   "source": [
    "import pandas as p\n",
    "import json\n",
    "\n",
    "#Load json file\n",
    "with open('sales_data.json', 'r') as file:\n",
    "    data = json.load(file)\n",
    "df = p.json_normalize(data)\n",
    "print(df)"
   ]
  },
  {
   "cell_type": "code",
   "execution_count": 206,
   "id": "98c72f95-0839-4575-a4aa-ec57817360a9",
   "metadata": {},
   "outputs": [
    {
     "name": "stdout",
     "output_type": "stream",
     "text": [
      "    transaction_id customer_id  quantity        date region product.id  \\\n",
      "0             T001        C001         2  2023-01-15  North        P01   \n",
      "1             T002        C002         5  2023-02-10  South        P02   \n",
      "2             T003        None        -1  2023-03-05   East        P01   \n",
      "3             T004        C003         3  2023-04-20   West        P03   \n",
      "4             T005        C001        10  2023-05-12  North        P02   \n",
      "..             ...         ...       ...         ...    ...        ...   \n",
      "97            T031        C004         3  2023-07-30   East        P01   \n",
      "98            T032        C002         2  2023-08-10  North        P03   \n",
      "99            T033        C001         5  2023-09-05  South        P02   \n",
      "100           T034        C004         1  2023-10-08   West        P01   \n",
      "101           T035        C005         6  2023-11-11  North        P03   \n",
      "\n",
      "    product.name product.category  product.price  \n",
      "0         Laptop      Electronics         999.99  \n",
      "1          Mouse      Accessories          19.99  \n",
      "2         Laptop      Electronics         999.99  \n",
      "3        Monitor      Electronics         299.50  \n",
      "4          Mouse      Accessories          19.99  \n",
      "..           ...              ...            ...  \n",
      "97        Laptop      Electronics         999.99  \n",
      "98       Monitor      Electronics         299.50  \n",
      "99         Mouse      Accessories          19.99  \n",
      "100       Laptop      Electronics         999.99  \n",
      "101      Monitor      Electronics         299.50  \n",
      "\n",
      "[102 rows x 9 columns]\n"
     ]
    }
   ],
   "source": [
    "#Standardizing date to a consistent format\n",
    "df['date'] = p.to_datetime(df['date'], format='mixed', errors='raise',utc=True)\n",
    "df['date'] = df['date'].dt.date\n",
    "print(df)"
   ]
  },
  {
   "cell_type": "code",
   "execution_count": 207,
   "id": "307a9e53-eb46-40f6-9585-32212d569cdf",
   "metadata": {},
   "outputs": [
    {
     "data": {
      "text/html": [
       "<div>\n",
       "<style scoped>\n",
       "    .dataframe tbody tr th:only-of-type {\n",
       "        vertical-align: middle;\n",
       "    }\n",
       "\n",
       "    .dataframe tbody tr th {\n",
       "        vertical-align: top;\n",
       "    }\n",
       "\n",
       "    .dataframe thead th {\n",
       "        text-align: right;\n",
       "    }\n",
       "</style>\n",
       "<table border=\"1\" class=\"dataframe\">\n",
       "  <thead>\n",
       "    <tr style=\"text-align: right;\">\n",
       "      <th></th>\n",
       "      <th>transaction_id</th>\n",
       "      <th>customer_id</th>\n",
       "      <th>quantity</th>\n",
       "      <th>date</th>\n",
       "      <th>region</th>\n",
       "      <th>product.id</th>\n",
       "      <th>product.name</th>\n",
       "      <th>product.category</th>\n",
       "      <th>product.price</th>\n",
       "    </tr>\n",
       "  </thead>\n",
       "  <tbody>\n",
       "    <tr>\n",
       "      <th>2</th>\n",
       "      <td>T003</td>\n",
       "      <td>None</td>\n",
       "      <td>-1</td>\n",
       "      <td>2023-03-05</td>\n",
       "      <td>East</td>\n",
       "      <td>P01</td>\n",
       "      <td>Laptop</td>\n",
       "      <td>Electronics</td>\n",
       "      <td>999.99</td>\n",
       "    </tr>\n",
       "    <tr>\n",
       "      <th>7</th>\n",
       "      <td>T003</td>\n",
       "      <td>None</td>\n",
       "      <td>-1</td>\n",
       "      <td>2023-03-05</td>\n",
       "      <td>East</td>\n",
       "      <td>P01</td>\n",
       "      <td>Laptop</td>\n",
       "      <td>Electronics</td>\n",
       "      <td>999.99</td>\n",
       "    </tr>\n",
       "    <tr>\n",
       "      <th>17</th>\n",
       "      <td>T013</td>\n",
       "      <td>None</td>\n",
       "      <td>4</td>\n",
       "      <td>2023-01-28</td>\n",
       "      <td>East</td>\n",
       "      <td>P03</td>\n",
       "      <td>Monitor</td>\n",
       "      <td>Electronics</td>\n",
       "      <td>299.50</td>\n",
       "    </tr>\n",
       "    <tr>\n",
       "      <th>27</th>\n",
       "      <td>T023</td>\n",
       "      <td>None</td>\n",
       "      <td>1</td>\n",
       "      <td>2023-11-22</td>\n",
       "      <td>West</td>\n",
       "      <td>P01</td>\n",
       "      <td>Laptop</td>\n",
       "      <td>Electronics</td>\n",
       "      <td>999.99</td>\n",
       "    </tr>\n",
       "    <tr>\n",
       "      <th>42</th>\n",
       "      <td>T003</td>\n",
       "      <td>None</td>\n",
       "      <td>-1</td>\n",
       "      <td>2023-03-05</td>\n",
       "      <td>East</td>\n",
       "      <td>P01</td>\n",
       "      <td>Laptop</td>\n",
       "      <td>Electronics</td>\n",
       "      <td>999.99</td>\n",
       "    </tr>\n",
       "    <tr>\n",
       "      <th>52</th>\n",
       "      <td>T013</td>\n",
       "      <td>None</td>\n",
       "      <td>4</td>\n",
       "      <td>2023-01-28</td>\n",
       "      <td>East</td>\n",
       "      <td>P03</td>\n",
       "      <td>Monitor</td>\n",
       "      <td>Electronics</td>\n",
       "      <td>299.50</td>\n",
       "    </tr>\n",
       "    <tr>\n",
       "      <th>62</th>\n",
       "      <td>T023</td>\n",
       "      <td>None</td>\n",
       "      <td>1</td>\n",
       "      <td>2023-11-22</td>\n",
       "      <td>West</td>\n",
       "      <td>P01</td>\n",
       "      <td>Laptop</td>\n",
       "      <td>Electronics</td>\n",
       "      <td>999.99</td>\n",
       "    </tr>\n",
       "    <tr>\n",
       "      <th>79</th>\n",
       "      <td>T013</td>\n",
       "      <td>None</td>\n",
       "      <td>4</td>\n",
       "      <td>2023-01-28</td>\n",
       "      <td>East</td>\n",
       "      <td>P03</td>\n",
       "      <td>Monitor</td>\n",
       "      <td>Electronics</td>\n",
       "      <td>299.50</td>\n",
       "    </tr>\n",
       "    <tr>\n",
       "      <th>89</th>\n",
       "      <td>T023</td>\n",
       "      <td>None</td>\n",
       "      <td>1</td>\n",
       "      <td>2023-11-22</td>\n",
       "      <td>West</td>\n",
       "      <td>P01</td>\n",
       "      <td>Laptop</td>\n",
       "      <td>Electronics</td>\n",
       "      <td>999.99</td>\n",
       "    </tr>\n",
       "  </tbody>\n",
       "</table>\n",
       "</div>"
      ],
      "text/plain": [
       "   transaction_id customer_id  quantity        date region product.id  \\\n",
       "2            T003        None        -1  2023-03-05   East        P01   \n",
       "7            T003        None        -1  2023-03-05   East        P01   \n",
       "17           T013        None         4  2023-01-28   East        P03   \n",
       "27           T023        None         1  2023-11-22   West        P01   \n",
       "42           T003        None        -1  2023-03-05   East        P01   \n",
       "52           T013        None         4  2023-01-28   East        P03   \n",
       "62           T023        None         1  2023-11-22   West        P01   \n",
       "79           T013        None         4  2023-01-28   East        P03   \n",
       "89           T023        None         1  2023-11-22   West        P01   \n",
       "\n",
       "   product.name product.category  product.price  \n",
       "2        Laptop      Electronics         999.99  \n",
       "7        Laptop      Electronics         999.99  \n",
       "17      Monitor      Electronics         299.50  \n",
       "27       Laptop      Electronics         999.99  \n",
       "42       Laptop      Electronics         999.99  \n",
       "52      Monitor      Electronics         299.50  \n",
       "62       Laptop      Electronics         999.99  \n",
       "79      Monitor      Electronics         299.50  \n",
       "89       Laptop      Electronics         999.99  "
      ]
     },
     "execution_count": 207,
     "metadata": {},
     "output_type": "execute_result"
    }
   ],
   "source": [
    "#identifying the Null customer IDs\n",
    "df[df['customer_id'].isnull()]"
   ]
  },
  {
   "cell_type": "code",
   "execution_count": 208,
   "id": "953571fd-d166-4e94-896a-01b43f0efbc0",
   "metadata": {},
   "outputs": [
    {
     "name": "stdout",
     "output_type": "stream",
     "text": [
      "\n",
      "DataFrame after removing rows with missing values:\n",
      "    transaction_id customer_id  quantity        date region product.id  \\\n",
      "0             T001        C001         2  2023-01-15  North        P01   \n",
      "1             T002        C002         5  2023-02-10  South        P02   \n",
      "2             T003     Unknown        -1  2023-03-05   East        P01   \n",
      "3             T004        C003         3  2023-04-20   West        P03   \n",
      "4             T005        C001        10  2023-05-12  North        P02   \n",
      "..             ...         ...       ...         ...    ...        ...   \n",
      "97            T031        C004         3  2023-07-30   East        P01   \n",
      "98            T032        C002         2  2023-08-10  North        P03   \n",
      "99            T033        C001         5  2023-09-05  South        P02   \n",
      "100           T034        C004         1  2023-10-08   West        P01   \n",
      "101           T035        C005         6  2023-11-11  North        P03   \n",
      "\n",
      "    product.name product.category  product.price  \n",
      "0         Laptop      Electronics         999.99  \n",
      "1          Mouse      Accessories          19.99  \n",
      "2         Laptop      Electronics         999.99  \n",
      "3        Monitor      Electronics         299.50  \n",
      "4          Mouse      Accessories          19.99  \n",
      "..           ...              ...            ...  \n",
      "97        Laptop      Electronics         999.99  \n",
      "98       Monitor      Electronics         299.50  \n",
      "99         Mouse      Accessories          19.99  \n",
      "100       Laptop      Electronics         999.99  \n",
      "101      Monitor      Electronics         299.50  \n",
      "\n",
      "[102 rows x 9 columns]\n"
     ]
    }
   ],
   "source": [
    "#df = df.dropna()\n",
    "df['customer_id'] = df['customer_id'].fillna('Unknown')\n",
    "\n",
    "# Handling missing customer_id\n",
    "print(\"\\nDataFrame after removing rows with missing values:\")\n",
    "print(df)"
   ]
  },
  {
   "cell_type": "code",
   "execution_count": 209,
   "id": "3ad0e770-f3f3-43dd-a1af-29d0403f0a4c",
   "metadata": {},
   "outputs": [
    {
     "data": {
      "text/html": [
       "<div>\n",
       "<style scoped>\n",
       "    .dataframe tbody tr th:only-of-type {\n",
       "        vertical-align: middle;\n",
       "    }\n",
       "\n",
       "    .dataframe tbody tr th {\n",
       "        vertical-align: top;\n",
       "    }\n",
       "\n",
       "    .dataframe thead th {\n",
       "        text-align: right;\n",
       "    }\n",
       "</style>\n",
       "<table border=\"1\" class=\"dataframe\">\n",
       "  <thead>\n",
       "    <tr style=\"text-align: right;\">\n",
       "      <th></th>\n",
       "      <th>transaction_id</th>\n",
       "      <th>customer_id</th>\n",
       "      <th>quantity</th>\n",
       "      <th>date</th>\n",
       "      <th>region</th>\n",
       "      <th>product.id</th>\n",
       "      <th>product.name</th>\n",
       "      <th>product.category</th>\n",
       "      <th>product.price</th>\n",
       "    </tr>\n",
       "  </thead>\n",
       "  <tbody>\n",
       "    <tr>\n",
       "      <th>2</th>\n",
       "      <td>T003</td>\n",
       "      <td>Unknown</td>\n",
       "      <td>-1</td>\n",
       "      <td>2023-03-05</td>\n",
       "      <td>East</td>\n",
       "      <td>P01</td>\n",
       "      <td>Laptop</td>\n",
       "      <td>Electronics</td>\n",
       "      <td>999.99</td>\n",
       "    </tr>\n",
       "    <tr>\n",
       "      <th>7</th>\n",
       "      <td>T003</td>\n",
       "      <td>Unknown</td>\n",
       "      <td>-1</td>\n",
       "      <td>2023-03-05</td>\n",
       "      <td>East</td>\n",
       "      <td>P01</td>\n",
       "      <td>Laptop</td>\n",
       "      <td>Electronics</td>\n",
       "      <td>999.99</td>\n",
       "    </tr>\n",
       "    <tr>\n",
       "      <th>13</th>\n",
       "      <td>T009</td>\n",
       "      <td>C004</td>\n",
       "      <td>-3</td>\n",
       "      <td>2023-09-18</td>\n",
       "      <td>West</td>\n",
       "      <td>P01</td>\n",
       "      <td>Laptop</td>\n",
       "      <td>Electronics</td>\n",
       "      <td>999.99</td>\n",
       "    </tr>\n",
       "    <tr>\n",
       "      <th>30</th>\n",
       "      <td>T026</td>\n",
       "      <td>C003</td>\n",
       "      <td>-2</td>\n",
       "      <td>2023-02-05</td>\n",
       "      <td>West</td>\n",
       "      <td>P01</td>\n",
       "      <td>Laptop</td>\n",
       "      <td>Electronics</td>\n",
       "      <td>999.99</td>\n",
       "    </tr>\n",
       "    <tr>\n",
       "      <th>42</th>\n",
       "      <td>T003</td>\n",
       "      <td>Unknown</td>\n",
       "      <td>-1</td>\n",
       "      <td>2023-03-05</td>\n",
       "      <td>East</td>\n",
       "      <td>P01</td>\n",
       "      <td>Laptop</td>\n",
       "      <td>Electronics</td>\n",
       "      <td>999.99</td>\n",
       "    </tr>\n",
       "    <tr>\n",
       "      <th>48</th>\n",
       "      <td>T009</td>\n",
       "      <td>C004</td>\n",
       "      <td>-3</td>\n",
       "      <td>2023-09-18</td>\n",
       "      <td>West</td>\n",
       "      <td>P01</td>\n",
       "      <td>Laptop</td>\n",
       "      <td>Electronics</td>\n",
       "      <td>999.99</td>\n",
       "    </tr>\n",
       "    <tr>\n",
       "      <th>65</th>\n",
       "      <td>T026</td>\n",
       "      <td>C003</td>\n",
       "      <td>-2</td>\n",
       "      <td>2023-02-05</td>\n",
       "      <td>West</td>\n",
       "      <td>P01</td>\n",
       "      <td>Laptop</td>\n",
       "      <td>Electronics</td>\n",
       "      <td>999.99</td>\n",
       "    </tr>\n",
       "    <tr>\n",
       "      <th>75</th>\n",
       "      <td>T009</td>\n",
       "      <td>C004</td>\n",
       "      <td>-3</td>\n",
       "      <td>2023-09-18</td>\n",
       "      <td>West</td>\n",
       "      <td>P01</td>\n",
       "      <td>Laptop</td>\n",
       "      <td>Electronics</td>\n",
       "      <td>999.99</td>\n",
       "    </tr>\n",
       "    <tr>\n",
       "      <th>92</th>\n",
       "      <td>T026</td>\n",
       "      <td>C003</td>\n",
       "      <td>-2</td>\n",
       "      <td>2023-02-05</td>\n",
       "      <td>West</td>\n",
       "      <td>P01</td>\n",
       "      <td>Laptop</td>\n",
       "      <td>Electronics</td>\n",
       "      <td>999.99</td>\n",
       "    </tr>\n",
       "  </tbody>\n",
       "</table>\n",
       "</div>"
      ],
      "text/plain": [
       "   transaction_id customer_id  quantity        date region product.id  \\\n",
       "2            T003     Unknown        -1  2023-03-05   East        P01   \n",
       "7            T003     Unknown        -1  2023-03-05   East        P01   \n",
       "13           T009        C004        -3  2023-09-18   West        P01   \n",
       "30           T026        C003        -2  2023-02-05   West        P01   \n",
       "42           T003     Unknown        -1  2023-03-05   East        P01   \n",
       "48           T009        C004        -3  2023-09-18   West        P01   \n",
       "65           T026        C003        -2  2023-02-05   West        P01   \n",
       "75           T009        C004        -3  2023-09-18   West        P01   \n",
       "92           T026        C003        -2  2023-02-05   West        P01   \n",
       "\n",
       "   product.name product.category  product.price  \n",
       "2        Laptop      Electronics         999.99  \n",
       "7        Laptop      Electronics         999.99  \n",
       "13       Laptop      Electronics         999.99  \n",
       "30       Laptop      Electronics         999.99  \n",
       "42       Laptop      Electronics         999.99  \n",
       "48       Laptop      Electronics         999.99  \n",
       "65       Laptop      Electronics         999.99  \n",
       "75       Laptop      Electronics         999.99  \n",
       "92       Laptop      Electronics         999.99  "
      ]
     },
     "execution_count": 209,
     "metadata": {},
     "output_type": "execute_result"
    }
   ],
   "source": [
    "#Identifying the negative quantities\n",
    "df[df['quantity'] < 0]"
   ]
  },
  {
   "cell_type": "code",
   "execution_count": 210,
   "id": "c34b5073-fe02-4e0b-84e6-c499c77ca9cb",
   "metadata": {},
   "outputs": [
    {
     "name": "stdout",
     "output_type": "stream",
     "text": [
      "    transaction_id customer_id  quantity        date region product.id  \\\n",
      "0             T001        C001         2  2023-01-15  North        P01   \n",
      "1             T002        C002         5  2023-02-10  South        P02   \n",
      "2             T003     Unknown         0  2023-03-05   East        P01   \n",
      "3             T004        C003         3  2023-04-20   West        P03   \n",
      "4             T005        C001        10  2023-05-12  North        P02   \n",
      "..             ...         ...       ...         ...    ...        ...   \n",
      "97            T031        C004         3  2023-07-30   East        P01   \n",
      "98            T032        C002         2  2023-08-10  North        P03   \n",
      "99            T033        C001         5  2023-09-05  South        P02   \n",
      "100           T034        C004         1  2023-10-08   West        P01   \n",
      "101           T035        C005         6  2023-11-11  North        P03   \n",
      "\n",
      "    product.name product.category  product.price  \n",
      "0         Laptop      Electronics         999.99  \n",
      "1          Mouse      Accessories          19.99  \n",
      "2         Laptop      Electronics         999.99  \n",
      "3        Monitor      Electronics         299.50  \n",
      "4          Mouse      Accessories          19.99  \n",
      "..           ...              ...            ...  \n",
      "97        Laptop      Electronics         999.99  \n",
      "98       Monitor      Electronics         299.50  \n",
      "99         Mouse      Accessories          19.99  \n",
      "100       Laptop      Electronics         999.99  \n",
      "101      Monitor      Electronics         299.50  \n",
      "\n",
      "[102 rows x 9 columns]\n"
     ]
    }
   ],
   "source": [
    "#handling negative quantity values\n",
    "#df = df[df['quantity'] >= 0]\n",
    "df['quantity'] = df['quantity'].apply(lambda x: x if x > 0 else 0)\n",
    "print(df)"
   ]
  },
  {
   "cell_type": "code",
   "execution_count": 211,
   "id": "732f7fed-0c97-4a42-abda-3879d40fc04f",
   "metadata": {},
   "outputs": [
    {
     "name": "stdout",
     "output_type": "stream",
     "text": [
      "    transaction_id customer_id  quantity        date region product.id  \\\n",
      "0             T001        C001         2  2023-01-15  North        P01   \n",
      "1             T002        C002         5  2023-02-10  South        P02   \n",
      "2             T003     Unknown         0  2023-03-05   East        P01   \n",
      "3             T004        C003         3  2023-04-20   West        P03   \n",
      "4             T005        C001        10  2023-05-12  North        P02   \n",
      "..             ...         ...       ...         ...    ...        ...   \n",
      "97             NaN        C004         3  2023-07-30   East        P01   \n",
      "98             NaN        C002         2  2023-08-10  North        P03   \n",
      "99             NaN        C001         5  2023-09-05  South        P02   \n",
      "100            NaN        C004         1  2023-10-08   West        P01   \n",
      "101            NaN        C005         6  2023-11-11  North        P03   \n",
      "\n",
      "    product.name product.category  product.price  \n",
      "0         Laptop      Electronics         999.99  \n",
      "1          Mouse      Accessories          19.99  \n",
      "2         Laptop      Electronics         999.99  \n",
      "3        Monitor      Electronics         299.50  \n",
      "4          Mouse      Accessories          19.99  \n",
      "..           ...              ...            ...  \n",
      "97        Laptop      Electronics         999.99  \n",
      "98       Monitor      Electronics         299.50  \n",
      "99         Mouse      Accessories          19.99  \n",
      "100       Laptop      Electronics         999.99  \n",
      "101      Monitor      Electronics         299.50  \n",
      "\n",
      "[102 rows x 9 columns]\n"
     ]
    }
   ],
   "source": [
    "df['transaction_id']=df['transaction_id'].drop_duplicates()\n",
    "print(df)"
   ]
  },
  {
   "cell_type": "code",
   "execution_count": 212,
   "id": "0a0aad4b-a5df-4eb2-9412-a9152b90b800",
   "metadata": {},
   "outputs": [
    {
     "data": {
      "text/html": [
       "<div>\n",
       "<style scoped>\n",
       "    .dataframe tbody tr th:only-of-type {\n",
       "        vertical-align: middle;\n",
       "    }\n",
       "\n",
       "    .dataframe tbody tr th {\n",
       "        vertical-align: top;\n",
       "    }\n",
       "\n",
       "    .dataframe thead th {\n",
       "        text-align: right;\n",
       "    }\n",
       "</style>\n",
       "<table border=\"1\" class=\"dataframe\">\n",
       "  <thead>\n",
       "    <tr style=\"text-align: right;\">\n",
       "      <th></th>\n",
       "      <th>transaction_id</th>\n",
       "      <th>customer_id</th>\n",
       "      <th>quantity</th>\n",
       "      <th>date</th>\n",
       "      <th>region</th>\n",
       "      <th>product.id</th>\n",
       "      <th>product.name</th>\n",
       "      <th>product.category</th>\n",
       "      <th>product.price</th>\n",
       "    </tr>\n",
       "  </thead>\n",
       "  <tbody>\n",
       "    <tr>\n",
       "      <th>5</th>\n",
       "      <td>NaN</td>\n",
       "      <td>C001</td>\n",
       "      <td>2</td>\n",
       "      <td>2023-01-15</td>\n",
       "      <td>North</td>\n",
       "      <td>P01</td>\n",
       "      <td>Laptop</td>\n",
       "      <td>Electronics</td>\n",
       "      <td>999.99</td>\n",
       "    </tr>\n",
       "    <tr>\n",
       "      <th>6</th>\n",
       "      <td>NaN</td>\n",
       "      <td>C002</td>\n",
       "      <td>5</td>\n",
       "      <td>2023-02-10</td>\n",
       "      <td>South</td>\n",
       "      <td>P02</td>\n",
       "      <td>Mouse</td>\n",
       "      <td>Accessories</td>\n",
       "      <td>19.99</td>\n",
       "    </tr>\n",
       "    <tr>\n",
       "      <th>7</th>\n",
       "      <td>NaN</td>\n",
       "      <td>Unknown</td>\n",
       "      <td>0</td>\n",
       "      <td>2023-03-05</td>\n",
       "      <td>East</td>\n",
       "      <td>P01</td>\n",
       "      <td>Laptop</td>\n",
       "      <td>Electronics</td>\n",
       "      <td>999.99</td>\n",
       "    </tr>\n",
       "    <tr>\n",
       "      <th>8</th>\n",
       "      <td>NaN</td>\n",
       "      <td>C003</td>\n",
       "      <td>3</td>\n",
       "      <td>2023-04-20</td>\n",
       "      <td>West</td>\n",
       "      <td>P03</td>\n",
       "      <td>Monitor</td>\n",
       "      <td>Electronics</td>\n",
       "      <td>299.50</td>\n",
       "    </tr>\n",
       "    <tr>\n",
       "      <th>9</th>\n",
       "      <td>NaN</td>\n",
       "      <td>C001</td>\n",
       "      <td>10</td>\n",
       "      <td>2023-05-12</td>\n",
       "      <td>North</td>\n",
       "      <td>P02</td>\n",
       "      <td>Mouse</td>\n",
       "      <td>Accessories</td>\n",
       "      <td>19.99</td>\n",
       "    </tr>\n",
       "    <tr>\n",
       "      <th>...</th>\n",
       "      <td>...</td>\n",
       "      <td>...</td>\n",
       "      <td>...</td>\n",
       "      <td>...</td>\n",
       "      <td>...</td>\n",
       "      <td>...</td>\n",
       "      <td>...</td>\n",
       "      <td>...</td>\n",
       "      <td>...</td>\n",
       "    </tr>\n",
       "    <tr>\n",
       "      <th>97</th>\n",
       "      <td>NaN</td>\n",
       "      <td>C004</td>\n",
       "      <td>3</td>\n",
       "      <td>2023-07-30</td>\n",
       "      <td>East</td>\n",
       "      <td>P01</td>\n",
       "      <td>Laptop</td>\n",
       "      <td>Electronics</td>\n",
       "      <td>999.99</td>\n",
       "    </tr>\n",
       "    <tr>\n",
       "      <th>98</th>\n",
       "      <td>NaN</td>\n",
       "      <td>C002</td>\n",
       "      <td>2</td>\n",
       "      <td>2023-08-10</td>\n",
       "      <td>North</td>\n",
       "      <td>P03</td>\n",
       "      <td>Monitor</td>\n",
       "      <td>Electronics</td>\n",
       "      <td>299.50</td>\n",
       "    </tr>\n",
       "    <tr>\n",
       "      <th>99</th>\n",
       "      <td>NaN</td>\n",
       "      <td>C001</td>\n",
       "      <td>5</td>\n",
       "      <td>2023-09-05</td>\n",
       "      <td>South</td>\n",
       "      <td>P02</td>\n",
       "      <td>Mouse</td>\n",
       "      <td>Accessories</td>\n",
       "      <td>19.99</td>\n",
       "    </tr>\n",
       "    <tr>\n",
       "      <th>100</th>\n",
       "      <td>NaN</td>\n",
       "      <td>C004</td>\n",
       "      <td>1</td>\n",
       "      <td>2023-10-08</td>\n",
       "      <td>West</td>\n",
       "      <td>P01</td>\n",
       "      <td>Laptop</td>\n",
       "      <td>Electronics</td>\n",
       "      <td>999.99</td>\n",
       "    </tr>\n",
       "    <tr>\n",
       "      <th>101</th>\n",
       "      <td>NaN</td>\n",
       "      <td>C005</td>\n",
       "      <td>6</td>\n",
       "      <td>2023-11-11</td>\n",
       "      <td>North</td>\n",
       "      <td>P03</td>\n",
       "      <td>Monitor</td>\n",
       "      <td>Electronics</td>\n",
       "      <td>299.50</td>\n",
       "    </tr>\n",
       "  </tbody>\n",
       "</table>\n",
       "<p>67 rows × 9 columns</p>\n",
       "</div>"
      ],
      "text/plain": [
       "    transaction_id customer_id  quantity        date region product.id  \\\n",
       "5              NaN        C001         2  2023-01-15  North        P01   \n",
       "6              NaN        C002         5  2023-02-10  South        P02   \n",
       "7              NaN     Unknown         0  2023-03-05   East        P01   \n",
       "8              NaN        C003         3  2023-04-20   West        P03   \n",
       "9              NaN        C001        10  2023-05-12  North        P02   \n",
       "..             ...         ...       ...         ...    ...        ...   \n",
       "97             NaN        C004         3  2023-07-30   East        P01   \n",
       "98             NaN        C002         2  2023-08-10  North        P03   \n",
       "99             NaN        C001         5  2023-09-05  South        P02   \n",
       "100            NaN        C004         1  2023-10-08   West        P01   \n",
       "101            NaN        C005         6  2023-11-11  North        P03   \n",
       "\n",
       "    product.name product.category  product.price  \n",
       "5         Laptop      Electronics         999.99  \n",
       "6          Mouse      Accessories          19.99  \n",
       "7         Laptop      Electronics         999.99  \n",
       "8        Monitor      Electronics         299.50  \n",
       "9          Mouse      Accessories          19.99  \n",
       "..           ...              ...            ...  \n",
       "97        Laptop      Electronics         999.99  \n",
       "98       Monitor      Electronics         299.50  \n",
       "99         Mouse      Accessories          19.99  \n",
       "100       Laptop      Electronics         999.99  \n",
       "101      Monitor      Electronics         299.50  \n",
       "\n",
       "[67 rows x 9 columns]"
      ]
     },
     "execution_count": 212,
     "metadata": {},
     "output_type": "execute_result"
    }
   ],
   "source": [
    "#identifying the Null customer IDs\n",
    "df[df['transaction_id'].isnull()]"
   ]
  },
  {
   "cell_type": "code",
   "execution_count": 213,
   "id": "eb1ebeef-1d2d-47bc-82dd-70daa8e1683d",
   "metadata": {},
   "outputs": [
    {
     "name": "stdout",
     "output_type": "stream",
     "text": [
      "    transaction_id customer_id  quantity        date region product.id  \\\n",
      "0             T001        C001         2  2023-01-15  North        P01   \n",
      "1             T002        C002         5  2023-02-10  South        P02   \n",
      "2             T003     Unknown         0  2023-03-05   East        P01   \n",
      "3             T004        C003         3  2023-04-20   West        P03   \n",
      "4             T005        C001        10  2023-05-12  North        P02   \n",
      "..             ...         ...       ...         ...    ...        ...   \n",
      "97             NaN        C004         3  2023-07-30   East        P01   \n",
      "98             NaN        C002         2  2023-08-10  North        P03   \n",
      "99             NaN        C001         5  2023-09-05  South        P02   \n",
      "100            NaN        C004         1  2023-10-08   West        P01   \n",
      "101            NaN        C005         6  2023-11-11  North        P03   \n",
      "\n",
      "    product.name product.category  product.price  total_value  \n",
      "0         Laptop      Electronics         999.99      1999.98  \n",
      "1          Mouse      Accessories          19.99        99.95  \n",
      "2         Laptop      Electronics         999.99         0.00  \n",
      "3        Monitor      Electronics         299.50       898.50  \n",
      "4          Mouse      Accessories          19.99       199.90  \n",
      "..           ...              ...            ...          ...  \n",
      "97        Laptop      Electronics         999.99      2999.97  \n",
      "98       Monitor      Electronics         299.50       599.00  \n",
      "99         Mouse      Accessories          19.99        99.95  \n",
      "100       Laptop      Electronics         999.99       999.99  \n",
      "101      Monitor      Electronics         299.50      1797.00  \n",
      "\n",
      "[102 rows x 10 columns]\n"
     ]
    }
   ],
   "source": [
    "#Calculating total_value\n",
    "df['total_value']=df['quantity']*df['product.price']\n",
    "print(df)"
   ]
  },
  {
   "cell_type": "code",
   "execution_count": 214,
   "id": "179caa2e-5b89-4858-9a09-f59ccf641687",
   "metadata": {},
   "outputs": [],
   "source": [
    "df.columns = df.columns.str.replace('.', '_', regex=False)"
   ]
  },
  {
   "cell_type": "code",
   "execution_count": 215,
   "id": "4a455456-460f-4012-a9e8-6f83bb9759d5",
   "metadata": {},
   "outputs": [
    {
     "name": "stdout",
     "output_type": "stream",
     "text": [
      "transaction_id       object\n",
      "customer_id          object\n",
      "quantity              int64\n",
      "date                 object\n",
      "region               object\n",
      "product_id           object\n",
      "product_name         object\n",
      "product_category     object\n",
      "product_price       float64\n",
      "total_value         float64\n",
      "dtype: object\n"
     ]
    }
   ],
   "source": [
    "print(df.dtypes)"
   ]
  },
  {
   "cell_type": "code",
   "execution_count": 245,
   "id": "ca363678-5ad3-4406-b452-f2a91b0caa8d",
   "metadata": {},
   "outputs": [],
   "source": [
    "import sqlite3"
   ]
  },
  {
   "cell_type": "code",
   "execution_count": 246,
   "id": "ec360b29-10a0-4c62-a8af-a4e32d76ad69",
   "metadata": {},
   "outputs": [],
   "source": [
    "db = sqlite3.connect('Sales_Data.db')"
   ]
  },
  {
   "cell_type": "code",
   "execution_count": 247,
   "id": "0036627f-938c-4fc1-b833-afbab2415482",
   "metadata": {},
   "outputs": [
    {
     "data": {
      "text/plain": [
       "<sqlite3.Cursor at 0x2135110aec0>"
      ]
     },
     "execution_count": 247,
     "metadata": {},
     "output_type": "execute_result"
    }
   ],
   "source": [
    "cursor = db.cursor()\n",
    "cursor.execute('''\n",
    "    CREATE TABLE IF NOT EXISTS Sales (\n",
    "    transaction_id TEXT,\n",
    "    customer_id TEXT,\n",
    "    quantity INTEGER,\n",
    "    date TEXT,\n",
    "    region TEXT,\n",
    "    product_id TEXT,\n",
    "    product_name TEXT,\n",
    "    product_category TEXT,\n",
    "    product_price REAL,\n",
    "    total_value REAL\n",
    ");\n",
    "''')\n"
   ]
  },
  {
   "cell_type": "code",
   "execution_count": 239,
   "id": "2e5e2f67-56fe-453c-84f6-c34abc3eb716",
   "metadata": {},
   "outputs": [],
   "source": [
    "#db.commit()\n",
    "cursor.close()"
   ]
  },
  {
   "cell_type": "code",
   "execution_count": 248,
   "id": "a8cc793b-3ba6-4e51-ba54-5c7879219617",
   "metadata": {},
   "outputs": [
    {
     "data": {
      "text/plain": [
       "102"
      ]
     },
     "execution_count": 248,
     "metadata": {},
     "output_type": "execute_result"
    }
   ],
   "source": [
    "#from sqlalchemy import create_engine\n",
    "#engine=create_engine('sqlite:///Sales_Data.db')\n",
    "df.to_sql('Sales', db, if_exists='replace', index=False)"
   ]
  },
  {
   "cell_type": "code",
   "execution_count": 249,
   "id": "4e4cbfe1-5345-49e4-a473-8f69bcb8045b",
   "metadata": {},
   "outputs": [
    {
     "name": "stdout",
     "output_type": "stream",
     "text": [
      "('T001', 'C001', 2, '2023-01-15', 'North', 'P01', 'Laptop', 'Electronics', 999.99, 1999.98)\n",
      "('T002', 'C002', 5, '2023-02-10', 'South', 'P02', 'Mouse', 'Accessories', 19.99, 99.94999999999999)\n",
      "('T003', 'Unknown', 0, '2023-03-05', 'East', 'P01', 'Laptop', 'Electronics', 999.99, 0.0)\n",
      "('T004', 'C003', 3, '2023-04-20', 'West', 'P03', 'Monitor', 'Electronics', 299.5, 898.5)\n",
      "('T005', 'C001', 10, '2023-05-12', 'North', 'P02', 'Mouse', 'Accessories', 19.99, 199.89999999999998)\n",
      "(None, 'C001', 2, '2023-01-15', 'North', 'P01', 'Laptop', 'Electronics', 999.99, 1999.98)\n",
      "(None, 'C002', 5, '2023-02-10', 'South', 'P02', 'Mouse', 'Accessories', 19.99, 99.94999999999999)\n",
      "(None, 'Unknown', 0, '2023-03-05', 'East', 'P01', 'Laptop', 'Electronics', 999.99, 0.0)\n",
      "(None, 'C003', 3, '2023-04-20', 'West', 'P03', 'Monitor', 'Electronics', 299.5, 898.5)\n",
      "(None, 'C001', 10, '2023-05-12', 'North', 'P02', 'Mouse', 'Accessories', 19.99, 199.89999999999998)\n",
      "('T006', 'C004', 2, '2023-06-01', 'South', 'P03', 'Monitor', 'Electronics', 299.5, 599.0)\n",
      "('T007', 'C002', 1, '2023-07-10', 'North', 'P01', 'Laptop', 'Electronics', 999.99, 999.99)\n",
      "('T008', 'C005', 7, '2023-08-15', 'East', 'P02', 'Mouse', 'Accessories', 19.99, 139.92999999999998)\n",
      "('T009', 'C004', 0, '2023-09-18', 'West', 'P01', 'Laptop', 'Electronics', 999.99, 0.0)\n",
      "('T010', 'C003', 5, '2023-10-02', 'North', 'P03', 'Monitor', 'Electronics', 299.5, 1497.5)\n",
      "('T011', 'C005', 8, '2023-11-10', 'East', 'P02', 'Mouse', 'Accessories', 19.99, 159.92)\n",
      "('T012', 'C004', 6, '2023-12-01', 'South', 'P01', 'Laptop', 'Electronics', 999.99, 5999.9400000000005)\n",
      "('T013', 'Unknown', 4, '2023-01-28', 'East', 'P03', 'Monitor', 'Electronics', 299.5, 1198.0)\n",
      "('T014', 'C003', 2, '2023-02-25', 'North', 'P02', 'Mouse', 'Accessories', 19.99, 39.98)\n",
      "('T015', 'C001', 5, '2023-03-05', 'West', 'P03', 'Monitor', 'Electronics', 299.5, 1497.5)\n",
      "('T016', 'C002', 6, '2023-04-12', 'East', 'P02', 'Mouse', 'Accessories', 19.99, 119.94)\n",
      "('T017', 'C004', 3, '2023-05-15', 'South', 'P01', 'Laptop', 'Electronics', 999.99, 2999.9700000000003)\n",
      "('T018', 'C005', 7, '2023-06-21', 'West', 'P02', 'Mouse', 'Accessories', 19.99, 139.92999999999998)\n",
      "('T019', 'C003', 4, '2023-07-18', 'North', 'P01', 'Laptop', 'Electronics', 999.99, 3999.96)\n",
      "('T020', 'C002', 5, '2023-08-20', 'South', 'P03', 'Monitor', 'Electronics', 299.5, 1497.5)\n",
      "('T021', 'C001', 6, '2023-09-30', 'East', 'P02', 'Mouse', 'Accessories', 19.99, 119.94)\n",
      "('T022', 'C004', 8, '2023-10-05', 'North', 'P03', 'Monitor', 'Electronics', 299.5, 2396.0)\n",
      "('T023', 'Unknown', 1, '2023-11-22', 'West', 'P01', 'Laptop', 'Electronics', 999.99, 999.99)\n",
      "('T024', 'C002', 3, '2023-12-10', 'East', 'P02', 'Mouse', 'Accessories', 19.99, 59.97)\n",
      "('T025', 'C005', 4, '2023-01-18', 'South', 'P03', 'Monitor', 'Electronics', 299.5, 1198.0)\n",
      "('T026', 'C003', 0, '2023-02-05', 'West', 'P01', 'Laptop', 'Electronics', 999.99, 0.0)\n",
      "('T027', 'C004', 7, '2023-03-07', 'North', 'P02', 'Mouse', 'Accessories', 19.99, 139.92999999999998)\n",
      "('T028', 'C001', 5, '2023-04-19', 'East', 'P03', 'Monitor', 'Electronics', 299.5, 1497.5)\n",
      "('T029', 'C005', 2, '2023-05-22', 'South', 'P01', 'Laptop', 'Electronics', 999.99, 1999.98)\n",
      "('T030', 'C003', 4, '2023-06-10', 'West', 'P02', 'Mouse', 'Accessories', 19.99, 79.96)\n",
      "('T031', 'C004', 3, '2023-07-30', 'East', 'P01', 'Laptop', 'Electronics', 999.99, 2999.9700000000003)\n",
      "('T032', 'C002', 2, '2023-08-10', 'North', 'P03', 'Monitor', 'Electronics', 299.5, 599.0)\n",
      "('T033', 'C001', 5, '2023-09-05', 'South', 'P02', 'Mouse', 'Accessories', 19.99, 99.94999999999999)\n",
      "('T034', 'C004', 1, '2023-10-08', 'West', 'P01', 'Laptop', 'Electronics', 999.99, 999.99)\n",
      "('T035', 'C005', 6, '2023-11-11', 'North', 'P03', 'Monitor', 'Electronics', 299.5, 1797.0)\n",
      "(None, 'C001', 2, '2023-01-15', 'North', 'P01', 'Laptop', 'Electronics', 999.99, 1999.98)\n",
      "(None, 'C002', 5, '2023-02-10', 'South', 'P02', 'Mouse', 'Accessories', 19.99, 99.94999999999999)\n",
      "(None, 'Unknown', 0, '2023-03-05', 'East', 'P01', 'Laptop', 'Electronics', 999.99, 0.0)\n",
      "(None, 'C003', 3, '2023-04-20', 'West', 'P03', 'Monitor', 'Electronics', 299.5, 898.5)\n",
      "(None, 'C001', 10, '2023-05-12', 'North', 'P02', 'Mouse', 'Accessories', 19.99, 199.89999999999998)\n",
      "(None, 'C004', 2, '2023-06-01', 'South', 'P03', 'Monitor', 'Electronics', 299.5, 599.0)\n",
      "(None, 'C002', 1, '2023-07-10', 'North', 'P01', 'Laptop', 'Electronics', 999.99, 999.99)\n",
      "(None, 'C005', 7, '2023-08-15', 'East', 'P02', 'Mouse', 'Accessories', 19.99, 139.92999999999998)\n",
      "(None, 'C004', 0, '2023-09-18', 'West', 'P01', 'Laptop', 'Electronics', 999.99, 0.0)\n",
      "(None, 'C003', 5, '2023-10-02', 'North', 'P03', 'Monitor', 'Electronics', 299.5, 1497.5)\n",
      "(None, 'C005', 8, '2023-11-10', 'East', 'P02', 'Mouse', 'Accessories', 19.99, 159.92)\n",
      "(None, 'C004', 6, '2023-12-01', 'South', 'P01', 'Laptop', 'Electronics', 999.99, 5999.9400000000005)\n",
      "(None, 'Unknown', 4, '2023-01-28', 'East', 'P03', 'Monitor', 'Electronics', 299.5, 1198.0)\n",
      "(None, 'C003', 2, '2023-02-25', 'North', 'P02', 'Mouse', 'Accessories', 19.99, 39.98)\n",
      "(None, 'C001', 5, '2023-03-05', 'West', 'P03', 'Monitor', 'Electronics', 299.5, 1497.5)\n",
      "(None, 'C002', 6, '2023-04-12', 'East', 'P02', 'Mouse', 'Accessories', 19.99, 119.94)\n",
      "(None, 'C004', 3, '2023-05-15', 'South', 'P01', 'Laptop', 'Electronics', 999.99, 2999.9700000000003)\n",
      "(None, 'C005', 7, '2023-06-21', 'West', 'P02', 'Mouse', 'Accessories', 19.99, 139.92999999999998)\n",
      "(None, 'C003', 4, '2023-07-18', 'North', 'P01', 'Laptop', 'Electronics', 999.99, 3999.96)\n",
      "(None, 'C002', 5, '2023-08-20', 'South', 'P03', 'Monitor', 'Electronics', 299.5, 1497.5)\n",
      "(None, 'C001', 6, '2023-09-30', 'East', 'P02', 'Mouse', 'Accessories', 19.99, 119.94)\n",
      "(None, 'C004', 8, '2023-10-05', 'North', 'P03', 'Monitor', 'Electronics', 299.5, 2396.0)\n",
      "(None, 'Unknown', 1, '2023-11-22', 'West', 'P01', 'Laptop', 'Electronics', 999.99, 999.99)\n",
      "(None, 'C002', 3, '2023-12-10', 'East', 'P02', 'Mouse', 'Accessories', 19.99, 59.97)\n",
      "(None, 'C005', 4, '2023-01-18', 'South', 'P03', 'Monitor', 'Electronics', 299.5, 1198.0)\n",
      "(None, 'C003', 0, '2023-02-05', 'West', 'P01', 'Laptop', 'Electronics', 999.99, 0.0)\n",
      "(None, 'C004', 7, '2023-03-07', 'North', 'P02', 'Mouse', 'Accessories', 19.99, 139.92999999999998)\n",
      "(None, 'C001', 5, '2023-04-19', 'East', 'P03', 'Monitor', 'Electronics', 299.5, 1497.5)\n",
      "(None, 'C005', 2, '2023-05-22', 'South', 'P01', 'Laptop', 'Electronics', 999.99, 1999.98)\n",
      "(None, 'C003', 4, '2023-06-10', 'West', 'P02', 'Mouse', 'Accessories', 19.99, 79.96)\n",
      "(None, 'C004', 3, '2023-07-30', 'East', 'P01', 'Laptop', 'Electronics', 999.99, 2999.9700000000003)\n",
      "(None, 'C002', 2, '2023-08-10', 'North', 'P03', 'Monitor', 'Electronics', 299.5, 599.0)\n",
      "(None, 'C001', 5, '2023-09-05', 'South', 'P02', 'Mouse', 'Accessories', 19.99, 99.94999999999999)\n",
      "(None, 'C004', 1, '2023-10-08', 'West', 'P01', 'Laptop', 'Electronics', 999.99, 999.99)\n",
      "(None, 'C005', 6, '2023-11-11', 'North', 'P03', 'Monitor', 'Electronics', 299.5, 1797.0)\n",
      "(None, 'C004', 0, '2023-09-18', 'West', 'P01', 'Laptop', 'Electronics', 999.99, 0.0)\n",
      "(None, 'C003', 5, '2023-10-02', 'North', 'P03', 'Monitor', 'Electronics', 299.5, 1497.5)\n",
      "(None, 'C005', 8, '2023-11-10', 'East', 'P02', 'Mouse', 'Accessories', 19.99, 159.92)\n",
      "(None, 'C004', 6, '2023-12-01', 'South', 'P01', 'Laptop', 'Electronics', 999.99, 5999.9400000000005)\n",
      "(None, 'Unknown', 4, '2023-01-28', 'East', 'P03', 'Monitor', 'Electronics', 299.5, 1198.0)\n",
      "(None, 'C003', 2, '2023-02-25', 'North', 'P02', 'Mouse', 'Accessories', 19.99, 39.98)\n",
      "(None, 'C001', 5, '2023-03-05', 'West', 'P03', 'Monitor', 'Electronics', 299.5, 1497.5)\n",
      "(None, 'C002', 6, '2023-04-12', 'East', 'P02', 'Mouse', 'Accessories', 19.99, 119.94)\n",
      "(None, 'C004', 3, '2023-05-15', 'South', 'P01', 'Laptop', 'Electronics', 999.99, 2999.9700000000003)\n",
      "(None, 'C005', 7, '2023-06-21', 'West', 'P02', 'Mouse', 'Accessories', 19.99, 139.92999999999998)\n",
      "(None, 'C003', 4, '2023-07-18', 'North', 'P01', 'Laptop', 'Electronics', 999.99, 3999.96)\n",
      "(None, 'C002', 5, '2023-08-20', 'South', 'P03', 'Monitor', 'Electronics', 299.5, 1497.5)\n",
      "(None, 'C001', 6, '2023-09-30', 'East', 'P02', 'Mouse', 'Accessories', 19.99, 119.94)\n",
      "(None, 'C004', 8, '2023-10-05', 'North', 'P03', 'Monitor', 'Electronics', 299.5, 2396.0)\n",
      "(None, 'Unknown', 1, '2023-11-22', 'West', 'P01', 'Laptop', 'Electronics', 999.99, 999.99)\n",
      "(None, 'C002', 3, '2023-12-10', 'East', 'P02', 'Mouse', 'Accessories', 19.99, 59.97)\n",
      "(None, 'C005', 4, '2023-01-18', 'South', 'P03', 'Monitor', 'Electronics', 299.5, 1198.0)\n",
      "(None, 'C003', 0, '2023-02-05', 'West', 'P01', 'Laptop', 'Electronics', 999.99, 0.0)\n",
      "(None, 'C004', 7, '2023-03-07', 'North', 'P02', 'Mouse', 'Accessories', 19.99, 139.92999999999998)\n",
      "(None, 'C001', 5, '2023-04-19', 'East', 'P03', 'Monitor', 'Electronics', 299.5, 1497.5)\n",
      "(None, 'C005', 2, '2023-05-22', 'South', 'P01', 'Laptop', 'Electronics', 999.99, 1999.98)\n",
      "(None, 'C003', 4, '2023-06-10', 'West', 'P02', 'Mouse', 'Accessories', 19.99, 79.96)\n",
      "(None, 'C004', 3, '2023-07-30', 'East', 'P01', 'Laptop', 'Electronics', 999.99, 2999.9700000000003)\n",
      "(None, 'C002', 2, '2023-08-10', 'North', 'P03', 'Monitor', 'Electronics', 299.5, 599.0)\n",
      "(None, 'C001', 5, '2023-09-05', 'South', 'P02', 'Mouse', 'Accessories', 19.99, 99.94999999999999)\n",
      "(None, 'C004', 1, '2023-10-08', 'West', 'P01', 'Laptop', 'Electronics', 999.99, 999.99)\n",
      "(None, 'C005', 6, '2023-11-11', 'North', 'P03', 'Monitor', 'Electronics', 299.5, 1797.0)\n",
      "('T036', 'C006', 2, '2023-11-11', 'West', 'P03', 'Laptop', 'Electronics', 800.0, 1600.0)\n"
     ]
    }
   ],
   "source": [
    "#db = sqlite3.connect('Sales_Data.db')\n",
    "#cursor = db.cursor()\n",
    "\n",
    "cursor.execute(\"INSERT INTO Sales (transaction_id, customer_id, quantity,date,region,product_id,product_name,product_category,product_price,total_value) VALUES (?,?,?,?,?,?,?,?,?,?)\", \n",
    "               ('T036','C006',2,'2023-11-11','West','P03','Laptop','Electronics', 800.00, 1600.00))\n",
    "\n",
    "cursor.execute(\"SELECT * FROM Sales\")\n",
    "rows = cursor.fetchall()\n",
    "for row in rows:\n",
    "    print(row)\n",
    "\n",
    "db.commit()"
   ]
  },
  {
   "cell_type": "code",
   "execution_count": 250,
   "id": "7eb850d4-8f8a-4db8-a8d1-8536b843786c",
   "metadata": {},
   "outputs": [
    {
     "data": {
      "text/plain": [
       "<sqlite3.Cursor at 0x2135110aec0>"
      ]
     },
     "execution_count": 250,
     "metadata": {},
     "output_type": "execute_result"
    }
   ],
   "source": [
    "#cursor = db.cursor()\n",
    "cursor.execute('''\n",
    "    CREATE TABLE IF NOT EXISTS customers (\n",
    "    customer_id TEXT PRIMARY KEY,\n",
    "    region TEXT\n",
    ");\n",
    "''')"
   ]
  },
  {
   "cell_type": "code",
   "execution_count": 251,
   "id": "dfac9c91-774b-4388-9896-e22bd0c185a3",
   "metadata": {},
   "outputs": [
    {
     "data": {
      "text/plain": [
       "<sqlite3.Cursor at 0x2135110aec0>"
      ]
     },
     "execution_count": 251,
     "metadata": {},
     "output_type": "execute_result"
    }
   ],
   "source": [
    "#cursor = db.cursor()\n",
    "cursor.execute('''\n",
    "    CREATE TABLE IF NOT EXISTS products (\n",
    "    product_id TEXT PRIMARY KEY,\n",
    "    product_name TEXT,\n",
    "    product_category TEXT,\n",
    "    product_price REAL\n",
    ");\n",
    "''')"
   ]
  },
  {
   "cell_type": "code",
   "execution_count": 252,
   "id": "2c7658d5-8126-47b8-b44a-2d7c423ec28d",
   "metadata": {},
   "outputs": [
    {
     "data": {
      "text/plain": [
       "<sqlite3.Cursor at 0x2135110aec0>"
      ]
     },
     "execution_count": 252,
     "metadata": {},
     "output_type": "execute_result"
    }
   ],
   "source": [
    "#cursor = db.cursor()\n",
    "cursor.execute('''\n",
    "    CREATE TABLE IF NOT EXISTS transactions (\n",
    "    transaction_id TEXT PRIMARY KEY,\n",
    "    customer_id TEXT,\n",
    "    product_id TEXT,\n",
    "    quantity INTEGER,\n",
    "    date TEXT,\n",
    "    total_value REAL,\n",
    "    FOREIGN KEY (customer_id) REFERENCES customers(customer_id),\n",
    "    FOREIGN KEY (product_id) REFERENCES products(product_id)\n",
    ");\n",
    "''')"
   ]
  },
  {
   "cell_type": "code",
   "execution_count": 253,
   "id": "f87ea61c-f409-4e53-9f32-e36e7ee9ebfa",
   "metadata": {},
   "outputs": [
    {
     "data": {
      "text/plain": [
       "<sqlite3.Cursor at 0x2135110aec0>"
      ]
     },
     "execution_count": 253,
     "metadata": {},
     "output_type": "execute_result"
    }
   ],
   "source": [
    "cursor.execute(''' CREATE INDEX idx_transactions_date ON transactions(date)''')"
   ]
  },
  {
   "cell_type": "code",
   "execution_count": 254,
   "id": "73f6cc1d-bd80-4a53-86f6-1f359b7b2f7a",
   "metadata": {},
   "outputs": [
    {
     "data": {
      "text/plain": [
       "<sqlite3.Cursor at 0x2135110aec0>"
      ]
     },
     "execution_count": 254,
     "metadata": {},
     "output_type": "execute_result"
    }
   ],
   "source": [
    "cursor.execute('''CREATE INDEX idx_customers_region ON customers(region);''')"
   ]
  },
  {
   "cell_type": "code",
   "execution_count": 255,
   "id": "3f80fb86-1da1-42ae-bd0a-e9179f215264",
   "metadata": {},
   "outputs": [],
   "source": [
    "# Customers table\n",
    "customers_df = df[['customer_id', 'region']].drop_duplicates()\n",
    "\n",
    "# Products table\n",
    "products_df = df[['product_id', 'product_name', 'product_category', 'product_price']].drop_duplicates()\n",
    "\n",
    "# Transactions table (references customers & products)\n",
    "transactions_df = df[['transaction_id', 'customer_id', 'product_id', 'quantity', 'date', 'total_value']]\n"
   ]
  },
  {
   "cell_type": "code",
   "execution_count": 260,
   "id": "5bd43423-311e-4ceb-8ab0-09c82428b6dd",
   "metadata": {},
   "outputs": [
    {
     "ename": "OperationalError",
     "evalue": "database is locked",
     "output_type": "error",
     "traceback": [
      "\u001b[31m---------------------------------------------------------------------------\u001b[39m",
      "\u001b[31mOperationalError\u001b[39m                          Traceback (most recent call last)",
      "\u001b[36mCell\u001b[39m\u001b[36m \u001b[39m\u001b[32mIn[260]\u001b[39m\u001b[32m, line 4\u001b[39m\n\u001b[32m      1\u001b[39m \u001b[38;5;28;01mimport\u001b[39;00m\u001b[38;5;250m \u001b[39m\u001b[34;01msqlite3\u001b[39;00m\n\u001b[32m      3\u001b[39m \u001b[38;5;28;01mwith\u001b[39;00m sqlite3.connect(\u001b[33m'\u001b[39m\u001b[33mSalesData.db\u001b[39m\u001b[33m'\u001b[39m, timeout=\u001b[32m10\u001b[39m) \u001b[38;5;28;01mas\u001b[39;00m db:\n\u001b[32m----> \u001b[39m\u001b[32m4\u001b[39m     \u001b[43mcustomers_df\u001b[49m\u001b[43m.\u001b[49m\u001b[43mto_sql\u001b[49m\u001b[43m(\u001b[49m\u001b[33;43m'\u001b[39;49m\u001b[33;43mcustomers\u001b[39;49m\u001b[33;43m'\u001b[39;49m\u001b[43m,\u001b[49m\u001b[43m \u001b[49m\u001b[43mdb\u001b[49m\u001b[43m,\u001b[49m\u001b[43m \u001b[49m\u001b[43mif_exists\u001b[49m\u001b[43m=\u001b[49m\u001b[33;43m'\u001b[39;49m\u001b[33;43mreplace\u001b[39;49m\u001b[33;43m'\u001b[39;49m\u001b[43m,\u001b[49m\u001b[43m \u001b[49m\u001b[43mindex\u001b[49m\u001b[43m=\u001b[49m\u001b[38;5;28;43;01mFalse\u001b[39;49;00m\u001b[43m)\u001b[49m\n",
      "\u001b[36mFile \u001b[39m\u001b[32m~\\AppData\\Local\\Programs\\Python\\Python313\\Lib\\site-packages\\pandas\\util\\_decorators.py:333\u001b[39m, in \u001b[36mdeprecate_nonkeyword_arguments.<locals>.decorate.<locals>.wrapper\u001b[39m\u001b[34m(*args, **kwargs)\u001b[39m\n\u001b[32m    327\u001b[39m \u001b[38;5;28;01mif\u001b[39;00m \u001b[38;5;28mlen\u001b[39m(args) > num_allow_args:\n\u001b[32m    328\u001b[39m     warnings.warn(\n\u001b[32m    329\u001b[39m         msg.format(arguments=_format_argument_list(allow_args)),\n\u001b[32m    330\u001b[39m         \u001b[38;5;167;01mFutureWarning\u001b[39;00m,\n\u001b[32m    331\u001b[39m         stacklevel=find_stack_level(),\n\u001b[32m    332\u001b[39m     )\n\u001b[32m--> \u001b[39m\u001b[32m333\u001b[39m \u001b[38;5;28;01mreturn\u001b[39;00m \u001b[43mfunc\u001b[49m\u001b[43m(\u001b[49m\u001b[43m*\u001b[49m\u001b[43margs\u001b[49m\u001b[43m,\u001b[49m\u001b[43m \u001b[49m\u001b[43m*\u001b[49m\u001b[43m*\u001b[49m\u001b[43mkwargs\u001b[49m\u001b[43m)\u001b[49m\n",
      "\u001b[36mFile \u001b[39m\u001b[32m~\\AppData\\Local\\Programs\\Python\\Python313\\Lib\\site-packages\\pandas\\core\\generic.py:3087\u001b[39m, in \u001b[36mNDFrame.to_sql\u001b[39m\u001b[34m(self, name, con, schema, if_exists, index, index_label, chunksize, dtype, method)\u001b[39m\n\u001b[32m   2889\u001b[39m \u001b[38;5;250m\u001b[39m\u001b[33;03m\"\"\"\u001b[39;00m\n\u001b[32m   2890\u001b[39m \u001b[33;03mWrite records stored in a DataFrame to a SQL database.\u001b[39;00m\n\u001b[32m   2891\u001b[39m \n\u001b[32m   (...)\u001b[39m\u001b[32m   3083\u001b[39m \u001b[33;03m[(1,), (None,), (2,)]\u001b[39;00m\n\u001b[32m   3084\u001b[39m \u001b[33;03m\"\"\"\u001b[39;00m  \u001b[38;5;66;03m# noqa: E501\u001b[39;00m\n\u001b[32m   3085\u001b[39m \u001b[38;5;28;01mfrom\u001b[39;00m\u001b[38;5;250m \u001b[39m\u001b[34;01mpandas\u001b[39;00m\u001b[34;01m.\u001b[39;00m\u001b[34;01mio\u001b[39;00m\u001b[38;5;250m \u001b[39m\u001b[38;5;28;01mimport\u001b[39;00m sql\n\u001b[32m-> \u001b[39m\u001b[32m3087\u001b[39m \u001b[38;5;28;01mreturn\u001b[39;00m \u001b[43msql\u001b[49m\u001b[43m.\u001b[49m\u001b[43mto_sql\u001b[49m\u001b[43m(\u001b[49m\n\u001b[32m   3088\u001b[39m \u001b[43m    \u001b[49m\u001b[38;5;28;43mself\u001b[39;49m\u001b[43m,\u001b[49m\n\u001b[32m   3089\u001b[39m \u001b[43m    \u001b[49m\u001b[43mname\u001b[49m\u001b[43m,\u001b[49m\n\u001b[32m   3090\u001b[39m \u001b[43m    \u001b[49m\u001b[43mcon\u001b[49m\u001b[43m,\u001b[49m\n\u001b[32m   3091\u001b[39m \u001b[43m    \u001b[49m\u001b[43mschema\u001b[49m\u001b[43m=\u001b[49m\u001b[43mschema\u001b[49m\u001b[43m,\u001b[49m\n\u001b[32m   3092\u001b[39m \u001b[43m    \u001b[49m\u001b[43mif_exists\u001b[49m\u001b[43m=\u001b[49m\u001b[43mif_exists\u001b[49m\u001b[43m,\u001b[49m\n\u001b[32m   3093\u001b[39m \u001b[43m    \u001b[49m\u001b[43mindex\u001b[49m\u001b[43m=\u001b[49m\u001b[43mindex\u001b[49m\u001b[43m,\u001b[49m\n\u001b[32m   3094\u001b[39m \u001b[43m    \u001b[49m\u001b[43mindex_label\u001b[49m\u001b[43m=\u001b[49m\u001b[43mindex_label\u001b[49m\u001b[43m,\u001b[49m\n\u001b[32m   3095\u001b[39m \u001b[43m    \u001b[49m\u001b[43mchunksize\u001b[49m\u001b[43m=\u001b[49m\u001b[43mchunksize\u001b[49m\u001b[43m,\u001b[49m\n\u001b[32m   3096\u001b[39m \u001b[43m    \u001b[49m\u001b[43mdtype\u001b[49m\u001b[43m=\u001b[49m\u001b[43mdtype\u001b[49m\u001b[43m,\u001b[49m\n\u001b[32m   3097\u001b[39m \u001b[43m    \u001b[49m\u001b[43mmethod\u001b[49m\u001b[43m=\u001b[49m\u001b[43mmethod\u001b[49m\u001b[43m,\u001b[49m\n\u001b[32m   3098\u001b[39m \u001b[43m\u001b[49m\u001b[43m)\u001b[49m\n",
      "\u001b[36mFile \u001b[39m\u001b[32m~\\AppData\\Local\\Programs\\Python\\Python313\\Lib\\site-packages\\pandas\\io\\sql.py:842\u001b[39m, in \u001b[36mto_sql\u001b[39m\u001b[34m(frame, name, con, schema, if_exists, index, index_label, chunksize, dtype, method, engine, **engine_kwargs)\u001b[39m\n\u001b[32m    837\u001b[39m     \u001b[38;5;28;01mraise\u001b[39;00m \u001b[38;5;167;01mNotImplementedError\u001b[39;00m(\n\u001b[32m    838\u001b[39m         \u001b[33m\"\u001b[39m\u001b[33m'\u001b[39m\u001b[33mframe\u001b[39m\u001b[33m'\u001b[39m\u001b[33m argument should be either a Series or a DataFrame\u001b[39m\u001b[33m\"\u001b[39m\n\u001b[32m    839\u001b[39m     )\n\u001b[32m    841\u001b[39m \u001b[38;5;28;01mwith\u001b[39;00m pandasSQL_builder(con, schema=schema, need_transaction=\u001b[38;5;28;01mTrue\u001b[39;00m) \u001b[38;5;28;01mas\u001b[39;00m pandas_sql:\n\u001b[32m--> \u001b[39m\u001b[32m842\u001b[39m     \u001b[38;5;28;01mreturn\u001b[39;00m \u001b[43mpandas_sql\u001b[49m\u001b[43m.\u001b[49m\u001b[43mto_sql\u001b[49m\u001b[43m(\u001b[49m\n\u001b[32m    843\u001b[39m \u001b[43m        \u001b[49m\u001b[43mframe\u001b[49m\u001b[43m,\u001b[49m\n\u001b[32m    844\u001b[39m \u001b[43m        \u001b[49m\u001b[43mname\u001b[49m\u001b[43m,\u001b[49m\n\u001b[32m    845\u001b[39m \u001b[43m        \u001b[49m\u001b[43mif_exists\u001b[49m\u001b[43m=\u001b[49m\u001b[43mif_exists\u001b[49m\u001b[43m,\u001b[49m\n\u001b[32m    846\u001b[39m \u001b[43m        \u001b[49m\u001b[43mindex\u001b[49m\u001b[43m=\u001b[49m\u001b[43mindex\u001b[49m\u001b[43m,\u001b[49m\n\u001b[32m    847\u001b[39m \u001b[43m        \u001b[49m\u001b[43mindex_label\u001b[49m\u001b[43m=\u001b[49m\u001b[43mindex_label\u001b[49m\u001b[43m,\u001b[49m\n\u001b[32m    848\u001b[39m \u001b[43m        \u001b[49m\u001b[43mschema\u001b[49m\u001b[43m=\u001b[49m\u001b[43mschema\u001b[49m\u001b[43m,\u001b[49m\n\u001b[32m    849\u001b[39m \u001b[43m        \u001b[49m\u001b[43mchunksize\u001b[49m\u001b[43m=\u001b[49m\u001b[43mchunksize\u001b[49m\u001b[43m,\u001b[49m\n\u001b[32m    850\u001b[39m \u001b[43m        \u001b[49m\u001b[43mdtype\u001b[49m\u001b[43m=\u001b[49m\u001b[43mdtype\u001b[49m\u001b[43m,\u001b[49m\n\u001b[32m    851\u001b[39m \u001b[43m        \u001b[49m\u001b[43mmethod\u001b[49m\u001b[43m=\u001b[49m\u001b[43mmethod\u001b[49m\u001b[43m,\u001b[49m\n\u001b[32m    852\u001b[39m \u001b[43m        \u001b[49m\u001b[43mengine\u001b[49m\u001b[43m=\u001b[49m\u001b[43mengine\u001b[49m\u001b[43m,\u001b[49m\n\u001b[32m    853\u001b[39m \u001b[43m        \u001b[49m\u001b[43m*\u001b[49m\u001b[43m*\u001b[49m\u001b[43mengine_kwargs\u001b[49m\u001b[43m,\u001b[49m\n\u001b[32m    854\u001b[39m \u001b[43m    \u001b[49m\u001b[43m)\u001b[49m\n",
      "\u001b[36mFile \u001b[39m\u001b[32m~\\AppData\\Local\\Programs\\Python\\Python313\\Lib\\site-packages\\pandas\\io\\sql.py:2850\u001b[39m, in \u001b[36mSQLiteDatabase.to_sql\u001b[39m\u001b[34m(self, frame, name, if_exists, index, index_label, schema, chunksize, dtype, method, engine, **engine_kwargs)\u001b[39m\n\u001b[32m   2839\u001b[39m             \u001b[38;5;28;01mraise\u001b[39;00m \u001b[38;5;167;01mValueError\u001b[39;00m(\u001b[33mf\u001b[39m\u001b[33m\"\u001b[39m\u001b[38;5;132;01m{\u001b[39;00mcol\u001b[38;5;132;01m}\u001b[39;00m\u001b[33m (\u001b[39m\u001b[38;5;132;01m{\u001b[39;00mmy_type\u001b[38;5;132;01m}\u001b[39;00m\u001b[33m) not a string\u001b[39m\u001b[33m\"\u001b[39m)\n\u001b[32m   2841\u001b[39m table = SQLiteTable(\n\u001b[32m   2842\u001b[39m     name,\n\u001b[32m   2843\u001b[39m     \u001b[38;5;28mself\u001b[39m,\n\u001b[32m   (...)\u001b[39m\u001b[32m   2848\u001b[39m     dtype=dtype,\n\u001b[32m   2849\u001b[39m )\n\u001b[32m-> \u001b[39m\u001b[32m2850\u001b[39m \u001b[43mtable\u001b[49m\u001b[43m.\u001b[49m\u001b[43mcreate\u001b[49m\u001b[43m(\u001b[49m\u001b[43m)\u001b[49m\n\u001b[32m   2851\u001b[39m \u001b[38;5;28;01mreturn\u001b[39;00m table.insert(chunksize, method)\n",
      "\u001b[36mFile \u001b[39m\u001b[32m~\\AppData\\Local\\Programs\\Python\\Python313\\Lib\\site-packages\\pandas\\io\\sql.py:995\u001b[39m, in \u001b[36mSQLTable.create\u001b[39m\u001b[34m(self)\u001b[39m\n\u001b[32m    993\u001b[39m         \u001b[38;5;28;01mraise\u001b[39;00m \u001b[38;5;167;01mValueError\u001b[39;00m(\u001b[33mf\u001b[39m\u001b[33m\"\u001b[39m\u001b[33m'\u001b[39m\u001b[38;5;132;01m{\u001b[39;00m\u001b[38;5;28mself\u001b[39m.if_exists\u001b[38;5;132;01m}\u001b[39;00m\u001b[33m'\u001b[39m\u001b[33m is not valid for if_exists\u001b[39m\u001b[33m\"\u001b[39m)\n\u001b[32m    994\u001b[39m \u001b[38;5;28;01melse\u001b[39;00m:\n\u001b[32m--> \u001b[39m\u001b[32m995\u001b[39m     \u001b[38;5;28;43mself\u001b[39;49m\u001b[43m.\u001b[49m\u001b[43m_execute_create\u001b[49m\u001b[43m(\u001b[49m\u001b[43m)\u001b[49m\n",
      "\u001b[36mFile \u001b[39m\u001b[32m~\\AppData\\Local\\Programs\\Python\\Python313\\Lib\\site-packages\\pandas\\io\\sql.py:2524\u001b[39m, in \u001b[36mSQLiteTable._execute_create\u001b[39m\u001b[34m(self)\u001b[39m\n\u001b[32m   2522\u001b[39m \u001b[38;5;28;01mwith\u001b[39;00m \u001b[38;5;28mself\u001b[39m.pd_sql.run_transaction() \u001b[38;5;28;01mas\u001b[39;00m conn:\n\u001b[32m   2523\u001b[39m     \u001b[38;5;28;01mfor\u001b[39;00m stmt \u001b[38;5;129;01min\u001b[39;00m \u001b[38;5;28mself\u001b[39m.table:\n\u001b[32m-> \u001b[39m\u001b[32m2524\u001b[39m         \u001b[43mconn\u001b[49m\u001b[43m.\u001b[49m\u001b[43mexecute\u001b[49m\u001b[43m(\u001b[49m\u001b[43mstmt\u001b[49m\u001b[43m)\u001b[49m\n",
      "\u001b[31mOperationalError\u001b[39m: database is locked"
     ]
    }
   ],
   "source": [
    "#import sqlite3\n",
    "\n",
    "#db = sqlite3.connect('SalesData.db')\n",
    "customers_df.to_sql('customers', db, if_exists='replace', index=False)\n",
    "products_df.to_sql('products', db, if_exists='replace', index=False)\n",
    "transactions_df.to_sql('transactions', db, if_exists='replace', index=False)"
   ]
  },
  {
   "cell_type": "code",
   "execution_count": 257,
   "id": "da7634ac-3a02-4d4f-8a1c-0728fe6ad1e6",
   "metadata": {},
   "outputs": [],
   "source": [
    "db.commit()"
   ]
  },
  {
   "cell_type": "code",
   "execution_count": 143,
   "id": "7742a64f-de81-4471-ad0c-18bd726f6f7e",
   "metadata": {},
   "outputs": [
    {
     "name": "stdout",
     "output_type": "stream",
     "text": [
      "('East', 89343.12000000001)\n",
      "('North', 108890.82)\n",
      "('South', 89343.12000000001)\n",
      "('West', 99761.76000000001)\n"
     ]
    }
   ],
   "source": [
    "# Total sales value by region\n",
    "cursor.execute(\"SELECT c.region, SUM(t.total_value) AS total_sales FROM customers c cross join transactions t ON c.customer_id = t.customer_id GROUP BY region\")\n",
    "rows = cursor.fetchall()\n",
    "for row in rows:\n",
    "    print(row)\n",
    "db.commit()"
   ]
  },
  {
   "cell_type": "code",
   "execution_count": 146,
   "id": "8665a528-6725-4943-8897-7a47ee6b65ab",
   "metadata": {},
   "outputs": [
    {
     "name": "stdout",
     "output_type": "stream",
     "text": [
      "('Laptop', 64999.350000000006)\n",
      "('Monitor', 39833.5)\n",
      "('Mouse', 4057.97)\n"
     ]
    }
   ],
   "source": [
    "# Top 5 products by total sales\n",
    "cursor.execute(\"SELECT p.product_name, SUM(t.total_value) AS total_sales FROM products p left join transactions t on p.product_id=t.product_id GROUP BY product_name ORDER BY total_sales DESC LIMIT 5\")\n",
    "rows = cursor.fetchall()\n",
    "for row in rows:\n",
    "    print(row)\n",
    "db.commit()"
   ]
  },
  {
   "cell_type": "code",
   "execution_count": 151,
   "id": "b17dd8a4-bf6e-4656-8738-4d8ab0372ee1",
   "metadata": {},
   "outputs": [
    {
     "name": "stdout",
     "output_type": "stream",
     "text": [
      "('2023-01', 9593.94)\n",
      "('2023-02', 419.78999999999996)\n",
      "('2023-03', 4912.29)\n",
      "('2023-04', 7547.82)\n",
      "('2023-05', 15599.550000000001)\n",
      "('2023-06', 1857.6699999999998)\n",
      "('2023-07', 22999.77)\n",
      "('2023-08', 6569.36)\n",
      "('2023-09', 659.67)\n",
      "('2023-10', 14680.47)\n",
      "('2023-11', 5870.76)\n",
      "('2023-12', 18179.730000000003)\n"
     ]
    }
   ],
   "source": [
    "# Monthly sales trend\n",
    "cursor.execute(\"\"\"SELECT strftime('%Y-%m', t.date) AS month, SUM(t.total_value) AS total_sales FROM transactions t GROUP BY month\"\"\")\n",
    "rows = cursor.fetchall()\n",
    "for row in rows:\n",
    "    print(row)\n",
    "db.commit()"
   ]
  },
  {
   "cell_type": "code",
   "execution_count": 152,
   "id": "ffb5b467-51ee-4adb-95a9-3ac1745f2227",
   "metadata": {},
   "outputs": [],
   "source": [
    "import logging\n",
    "logging.basicConfig(filename='data_quality.log', level=logging.INFO)"
   ]
  },
  {
   "cell_type": "code",
   "execution_count": 153,
   "id": "80f70fbb-555e-4f8c-90e9-db7200f0a975",
   "metadata": {},
   "outputs": [],
   "source": [
    "if df['transaction_id'].duplicated().any():\n",
    "    logging.info(\"Duplicate transaction IDs found\"\n",
    ")"
   ]
  },
  {
   "cell_type": "code",
   "execution_count": 156,
   "id": "8bb8ed28-e0f4-4a96-902b-56aa319773e4",
   "metadata": {},
   "outputs": [
    {
     "data": {
      "text/plain": [
       "87"
      ]
     },
     "execution_count": 156,
     "metadata": {},
     "output_type": "execute_result"
    }
   ],
   "source": [
    "df.to_sql('sales_optimize', db, index=False, if_exists='replace', chunksize=100)"
   ]
  },
  {
   "cell_type": "code",
   "execution_count": 158,
   "id": "eb4e992c-3245-4deb-a7da-e587e1da3a52",
   "metadata": {},
   "outputs": [
    {
     "data": {
      "text/plain": [
       "<sqlite3.Cursor at 0x2134e5ae4c0>"
      ]
     },
     "execution_count": 158,
     "metadata": {},
     "output_type": "execute_result"
    }
   ],
   "source": [
    "cursor.execute('''CREATE INDEX idx_region ON sales_optimize(region)''')"
   ]
  },
  {
   "cell_type": "code",
   "execution_count": 161,
   "id": "9db4742c-9ea2-49e7-9f77-47eb7ed5bf77",
   "metadata": {},
   "outputs": [
    {
     "name": "stdout",
     "output_type": "stream",
     "text": [
      "(3, 0, 61, 'SEARCH sales_optimize USING INDEX idx_region (region=?)')\n"
     ]
    }
   ],
   "source": [
    "cursor.execute(\"\"\"\n",
    "    EXPLAIN QUERY PLAN \n",
    "    SELECT * FROM sales_optimize \n",
    "    WHERE region = 'North'\n",
    "\"\"\")\n",
    "rows = cursor.fetchall()\n",
    "for row in rows:\n",
    "    print(row)"
   ]
  },
  {
   "cell_type": "code",
   "execution_count": null,
   "id": "395da432-1374-43de-8e76-9077536fd056",
   "metadata": {},
   "outputs": [],
   "source": []
  }
 ],
 "metadata": {
  "kernelspec": {
   "display_name": "Python 3 (ipykernel)",
   "language": "python",
   "name": "python3"
  },
  "language_info": {
   "codemirror_mode": {
    "name": "ipython",
    "version": 3
   },
   "file_extension": ".py",
   "mimetype": "text/x-python",
   "name": "python",
   "nbconvert_exporter": "python",
   "pygments_lexer": "ipython3",
   "version": "3.13.3"
  }
 },
 "nbformat": 4,
 "nbformat_minor": 5
}
